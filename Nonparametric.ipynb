{
 "cells": [
  {
   "cell_type": "code",
   "execution_count": 1,
   "metadata": {},
   "outputs": [],
   "source": [
    "import pandas as pd\n",
    "import numpy as np\n",
    "from matplotlib import pyplot as plt\n",
    "import seaborn as sns\n",
    "\n",
    "from sklearn.model_selection import train_test_split, GridSearchCV, cross_val_score\n",
    "from sklearn.pipeline import Pipeline\n",
    "from sklearn.preprocessing import StandardScaler, OneHotEncoder, FunctionTransformer\n",
    "from sklearn.neighbors import KNeighborsClassifier\n",
    "from sklearn.impute import SimpleImputer\n",
    "from sklearn.compose import ColumnTransformer,  make_column_selector as selector\n",
    "from sklearn.linear_model import LogisticRegression\n",
    "from sklearn.ensemble import RandomForestClassifier, GradientBoostingClassifier\n",
    "from sklearn.metrics import plot_confusion_matrix, recall_score, accuracy_score, plot_roc_curve, precision_score, f1_score\n",
    "from sklearn.tree import DecisionTreeClassifier, plot_tree\n",
    "\n",
    "from sklearn.dummy import DummyClassifier\n",
    "\n",
    "from imblearn.over_sampling import SMOTE\n",
    "from imblearn.pipeline import Pipeline as ImPipeline"
   ]
  },
  {
   "cell_type": "code",
   "execution_count": 2,
   "metadata": {},
   "outputs": [],
   "source": [
    "churn_df = pd.read_csv('./Data/bigml_59c28831336c6604c800002a.csv')"
   ]
  },
  {
   "cell_type": "code",
   "execution_count": 3,
   "metadata": {},
   "outputs": [],
   "source": [
    "churn_df.columns = churn_df.columns.str.title() "
   ]
  },
  {
   "cell_type": "code",
   "execution_count": 4,
   "metadata": {},
   "outputs": [],
   "source": [
    "churn_df.columns = churn_df.columns.str.replace(' ','')"
   ]
  },
  {
   "cell_type": "code",
   "execution_count": 5,
   "metadata": {},
   "outputs": [
    {
     "data": {
      "text/html": [
       "<div>\n",
       "<style scoped>\n",
       "    .dataframe tbody tr th:only-of-type {\n",
       "        vertical-align: middle;\n",
       "    }\n",
       "\n",
       "    .dataframe tbody tr th {\n",
       "        vertical-align: top;\n",
       "    }\n",
       "\n",
       "    .dataframe thead th {\n",
       "        text-align: right;\n",
       "    }\n",
       "</style>\n",
       "<table border=\"1\" class=\"dataframe\">\n",
       "  <thead>\n",
       "    <tr style=\"text-align: right;\">\n",
       "      <th></th>\n",
       "      <th>State</th>\n",
       "      <th>AccountLength</th>\n",
       "      <th>AreaCode</th>\n",
       "      <th>PhoneNumber</th>\n",
       "      <th>InternationalPlan</th>\n",
       "      <th>VoiceMailPlan</th>\n",
       "      <th>NumberVmailMessages</th>\n",
       "      <th>TotalDayMinutes</th>\n",
       "      <th>TotalDayCalls</th>\n",
       "      <th>TotalDayCharge</th>\n",
       "      <th>...</th>\n",
       "      <th>TotalEveCalls</th>\n",
       "      <th>TotalEveCharge</th>\n",
       "      <th>TotalNightMinutes</th>\n",
       "      <th>TotalNightCalls</th>\n",
       "      <th>TotalNightCharge</th>\n",
       "      <th>TotalIntlMinutes</th>\n",
       "      <th>TotalIntlCalls</th>\n",
       "      <th>TotalIntlCharge</th>\n",
       "      <th>CustomerServiceCalls</th>\n",
       "      <th>Churn</th>\n",
       "    </tr>\n",
       "  </thead>\n",
       "  <tbody>\n",
       "    <tr>\n",
       "      <th>0</th>\n",
       "      <td>KS</td>\n",
       "      <td>128</td>\n",
       "      <td>415</td>\n",
       "      <td>382-4657</td>\n",
       "      <td>no</td>\n",
       "      <td>yes</td>\n",
       "      <td>25</td>\n",
       "      <td>265.1</td>\n",
       "      <td>110</td>\n",
       "      <td>45.07</td>\n",
       "      <td>...</td>\n",
       "      <td>99</td>\n",
       "      <td>16.78</td>\n",
       "      <td>244.7</td>\n",
       "      <td>91</td>\n",
       "      <td>11.01</td>\n",
       "      <td>10.0</td>\n",
       "      <td>3</td>\n",
       "      <td>2.70</td>\n",
       "      <td>1</td>\n",
       "      <td>False</td>\n",
       "    </tr>\n",
       "    <tr>\n",
       "      <th>1</th>\n",
       "      <td>OH</td>\n",
       "      <td>107</td>\n",
       "      <td>415</td>\n",
       "      <td>371-7191</td>\n",
       "      <td>no</td>\n",
       "      <td>yes</td>\n",
       "      <td>26</td>\n",
       "      <td>161.6</td>\n",
       "      <td>123</td>\n",
       "      <td>27.47</td>\n",
       "      <td>...</td>\n",
       "      <td>103</td>\n",
       "      <td>16.62</td>\n",
       "      <td>254.4</td>\n",
       "      <td>103</td>\n",
       "      <td>11.45</td>\n",
       "      <td>13.7</td>\n",
       "      <td>3</td>\n",
       "      <td>3.70</td>\n",
       "      <td>1</td>\n",
       "      <td>False</td>\n",
       "    </tr>\n",
       "    <tr>\n",
       "      <th>2</th>\n",
       "      <td>NJ</td>\n",
       "      <td>137</td>\n",
       "      <td>415</td>\n",
       "      <td>358-1921</td>\n",
       "      <td>no</td>\n",
       "      <td>no</td>\n",
       "      <td>0</td>\n",
       "      <td>243.4</td>\n",
       "      <td>114</td>\n",
       "      <td>41.38</td>\n",
       "      <td>...</td>\n",
       "      <td>110</td>\n",
       "      <td>10.30</td>\n",
       "      <td>162.6</td>\n",
       "      <td>104</td>\n",
       "      <td>7.32</td>\n",
       "      <td>12.2</td>\n",
       "      <td>5</td>\n",
       "      <td>3.29</td>\n",
       "      <td>0</td>\n",
       "      <td>False</td>\n",
       "    </tr>\n",
       "    <tr>\n",
       "      <th>3</th>\n",
       "      <td>OH</td>\n",
       "      <td>84</td>\n",
       "      <td>408</td>\n",
       "      <td>375-9999</td>\n",
       "      <td>yes</td>\n",
       "      <td>no</td>\n",
       "      <td>0</td>\n",
       "      <td>299.4</td>\n",
       "      <td>71</td>\n",
       "      <td>50.90</td>\n",
       "      <td>...</td>\n",
       "      <td>88</td>\n",
       "      <td>5.26</td>\n",
       "      <td>196.9</td>\n",
       "      <td>89</td>\n",
       "      <td>8.86</td>\n",
       "      <td>6.6</td>\n",
       "      <td>7</td>\n",
       "      <td>1.78</td>\n",
       "      <td>2</td>\n",
       "      <td>False</td>\n",
       "    </tr>\n",
       "    <tr>\n",
       "      <th>4</th>\n",
       "      <td>OK</td>\n",
       "      <td>75</td>\n",
       "      <td>415</td>\n",
       "      <td>330-6626</td>\n",
       "      <td>yes</td>\n",
       "      <td>no</td>\n",
       "      <td>0</td>\n",
       "      <td>166.7</td>\n",
       "      <td>113</td>\n",
       "      <td>28.34</td>\n",
       "      <td>...</td>\n",
       "      <td>122</td>\n",
       "      <td>12.61</td>\n",
       "      <td>186.9</td>\n",
       "      <td>121</td>\n",
       "      <td>8.41</td>\n",
       "      <td>10.1</td>\n",
       "      <td>3</td>\n",
       "      <td>2.73</td>\n",
       "      <td>3</td>\n",
       "      <td>False</td>\n",
       "    </tr>\n",
       "  </tbody>\n",
       "</table>\n",
       "<p>5 rows × 21 columns</p>\n",
       "</div>"
      ],
      "text/plain": [
       "  State  AccountLength  AreaCode PhoneNumber InternationalPlan VoiceMailPlan  \\\n",
       "0    KS            128       415    382-4657                no           yes   \n",
       "1    OH            107       415    371-7191                no           yes   \n",
       "2    NJ            137       415    358-1921                no            no   \n",
       "3    OH             84       408    375-9999               yes            no   \n",
       "4    OK             75       415    330-6626               yes            no   \n",
       "\n",
       "   NumberVmailMessages  TotalDayMinutes  TotalDayCalls  TotalDayCharge  ...  \\\n",
       "0                   25            265.1            110           45.07  ...   \n",
       "1                   26            161.6            123           27.47  ...   \n",
       "2                    0            243.4            114           41.38  ...   \n",
       "3                    0            299.4             71           50.90  ...   \n",
       "4                    0            166.7            113           28.34  ...   \n",
       "\n",
       "   TotalEveCalls  TotalEveCharge  TotalNightMinutes  TotalNightCalls  \\\n",
       "0             99           16.78              244.7               91   \n",
       "1            103           16.62              254.4              103   \n",
       "2            110           10.30              162.6              104   \n",
       "3             88            5.26              196.9               89   \n",
       "4            122           12.61              186.9              121   \n",
       "\n",
       "   TotalNightCharge  TotalIntlMinutes  TotalIntlCalls  TotalIntlCharge  \\\n",
       "0             11.01              10.0               3             2.70   \n",
       "1             11.45              13.7               3             3.70   \n",
       "2              7.32              12.2               5             3.29   \n",
       "3              8.86               6.6               7             1.78   \n",
       "4              8.41              10.1               3             2.73   \n",
       "\n",
       "   CustomerServiceCalls  Churn  \n",
       "0                     1  False  \n",
       "1                     1  False  \n",
       "2                     0  False  \n",
       "3                     2  False  \n",
       "4                     3  False  \n",
       "\n",
       "[5 rows x 21 columns]"
      ]
     },
     "execution_count": 5,
     "metadata": {},
     "output_type": "execute_result"
    }
   ],
   "source": [
    "churn_df.head()"
   ]
  },
  {
   "cell_type": "code",
   "execution_count": 6,
   "metadata": {},
   "outputs": [],
   "source": [
    "X = churn_df.drop(['PhoneNumber', 'Churn', 'InternationalPlan', 'VoiceMailPlan', 'State', 'AreaCode'], axis =1)\n",
    "y = churn_df['Churn']\n",
    "\n",
    "X_train, X_test, y_train, y_test = train_test_split(X, y, random_state=105151)"
   ]
  },
  {
   "cell_type": "code",
   "execution_count": 7,
   "metadata": {},
   "outputs": [],
   "source": [
    "ss = StandardScaler()\n",
    "X_train_s = ss.fit_transform(X_train)\n",
    "X_test_s = ss.transform(X_test)"
   ]
  },
  {
   "cell_type": "code",
   "execution_count": 8,
   "metadata": {},
   "outputs": [
    {
     "data": {
      "text/plain": [
       "1.5883746935919456"
      ]
     },
     "execution_count": 8,
     "metadata": {},
     "output_type": "execute_result"
    }
   ],
   "source": [
    "knn = KNeighborsClassifier()\n",
    "knn_log_loss = -cross_val_score(knn, X_train_s, y_train, scoring=\"neg_log_loss\").mean()\n",
    "knn_log_loss"
   ]
  },
  {
   "cell_type": "code",
   "execution_count": 9,
   "metadata": {},
   "outputs": [
    {
     "data": {
      "text/plain": [
       "0.3324693850655061"
      ]
     },
     "execution_count": 9,
     "metadata": {},
     "output_type": "execute_result"
    }
   ],
   "source": [
    "knn_2 = KNeighborsClassifier(n_neighbors = 50)\n",
    "knn_log_loss2 = -cross_val_score(knn_2, X_train_s, y_train, scoring=\"neg_log_loss\").mean()\n",
    "knn_log_loss2"
   ]
  },
  {
   "cell_type": "code",
   "execution_count": 10,
   "metadata": {},
   "outputs": [
    {
     "data": {
      "text/plain": [
       "0.34571502741034765"
      ]
     },
     "execution_count": 10,
     "metadata": {},
     "output_type": "execute_result"
    }
   ],
   "source": [
    "knn_3 = KNeighborsClassifier(n_neighbors = 50, metric=\"manhattan\")\n",
    "knn_log_loss3 = -cross_val_score(knn_3, X_train_s, y_train, scoring=\"neg_log_loss\").mean()\n",
    "knn_log_loss3"
   ]
  },
  {
   "cell_type": "code",
   "execution_count": 11,
   "metadata": {},
   "outputs": [
    {
     "data": {
      "text/plain": [
       "0.3282636577890778"
      ]
     },
     "execution_count": 11,
     "metadata": {},
     "output_type": "execute_result"
    }
   ],
   "source": [
    "knn_4 = KNeighborsClassifier(n_neighbors = 75, metric=\"manhattan\")\n",
    "knn_log_loss4 = -cross_val_score(knn_4, X_train_s, y_train, scoring=\"neg_log_loss\").mean()\n",
    "knn_log_loss4"
   ]
  },
  {
   "cell_type": "code",
   "execution_count": 12,
   "metadata": {},
   "outputs": [
    {
     "data": {
      "text/plain": [
       "0.33582107040300213"
      ]
     },
     "execution_count": 12,
     "metadata": {},
     "output_type": "execute_result"
    }
   ],
   "source": [
    "forest = RandomForestClassifier()\n",
    "forest.fit(X_train_s, y_train)\n",
    "tree = -cross_val_score(forest, X_train_s, y_train, scoring=\"neg_log_loss\").mean()\n",
    "tree"
   ]
  },
  {
   "cell_type": "code",
   "execution_count": 13,
   "metadata": {},
   "outputs": [],
   "source": [
    "treeees = forest.feature_importances_"
   ]
  },
  {
   "cell_type": "code",
   "execution_count": 18,
   "metadata": {},
   "outputs": [
    {
     "data": {
      "text/plain": [
       "{'AccountLength': 0.03853741726736299,\n",
       " 'NumberVmailMessages': 0.039597775949360724,\n",
       " 'TotalDayMinutes': 0.15390041261878004,\n",
       " 'TotalDayCalls': 0.04347265681343122,\n",
       " 'TotalDayCharge': 0.1458235909413062,\n",
       " 'TotalEveMinutes': 0.07790769189311605,\n",
       " 'TotalEveCalls': 0.04055860034407498,\n",
       " 'TotalEveCharge': 0.07613157431784906,\n",
       " 'TotalNightMinutes': 0.047396682899746086,\n",
       " 'TotalNightCalls': 0.04218640575675038,\n",
       " 'TotalNightCharge': 0.04774983296279101,\n",
       " 'TotalIntlMinutes': 0.04650637077766495,\n",
       " 'TotalIntlCalls': 0.02977570011082398,\n",
       " 'TotalIntlCharge': 0.04684238345867602,\n",
       " 'CustomerServiceCalls': 0.12361290388826644}"
      ]
     },
     "execution_count": 18,
     "metadata": {},
     "output_type": "execute_result"
    }
   ],
   "source": [
    "tree_feat_import = {name: score \n",
    "                   for name, score \n",
    "                       in zip(X_train.columns, forest.feature_importances_)\n",
    "}\n",
    "tree_feat_import"
   ]
  },
  {
   "cell_type": "code",
   "execution_count": 19,
   "metadata": {},
   "outputs": [],
   "source": [
    "tree_values = []\n",
    "tree_keys = []\n",
    "for name in tree_feat_import:\n",
    "    if tree_feat_import[name] > .05:\n",
    "        tree_keys.append(name)\n",
    "        tree_values.append(tree_feat_import[name])"
   ]
  },
  {
   "cell_type": "code",
   "execution_count": 20,
   "metadata": {},
   "outputs": [
    {
     "data": {
      "text/plain": [
       "['TotalDayMinutes',\n",
       " 'TotalDayCharge',\n",
       " 'TotalEveMinutes',\n",
       " 'TotalEveCharge',\n",
       " 'CustomerServiceCalls']"
      ]
     },
     "execution_count": 20,
     "metadata": {},
     "output_type": "execute_result"
    }
   ],
   "source": [
    "tree_keys"
   ]
  },
  {
   "cell_type": "code",
   "execution_count": null,
   "metadata": {},
   "outputs": [],
   "source": []
  },
  {
   "cell_type": "code",
   "execution_count": null,
   "metadata": {},
   "outputs": [],
   "source": []
  }
 ],
 "metadata": {
  "kernelspec": {
   "display_name": "Python (learn-env)",
   "language": "python",
   "name": "learn-env"
  },
  "language_info": {
   "codemirror_mode": {
    "name": "ipython",
    "version": 3
   },
   "file_extension": ".py",
   "mimetype": "text/x-python",
   "name": "python",
   "nbconvert_exporter": "python",
   "pygments_lexer": "ipython3",
   "version": "3.8.5"
  }
 },
 "nbformat": 4,
 "nbformat_minor": 4
}
